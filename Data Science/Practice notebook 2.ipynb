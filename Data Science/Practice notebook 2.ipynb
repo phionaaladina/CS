{
 "cells": [
  {
   "cell_type": "markdown",
   "id": "5f95c073-2bd0-40f7-b7a5-3287c6e4c7df",
   "metadata": {},
   "source": [
    "## IMPORT LIBRARIES"
   ]
  },
  {
   "cell_type": "code",
   "execution_count": 2,
   "id": "05aba9a8-a2dd-40e5-a053-d46709919737",
   "metadata": {},
   "outputs": [],
   "source": [
    "import pandas as pd\n",
    "# Panda is a library that helps us work with data that is in the form of  rows and columns(Excel)"
   ]
  },
  {
   "cell_type": "markdown",
   "id": "57499daa-e690-4d35-ac30-a82aa319560e",
   "metadata": {},
   "source": [
    "Create a dictionary with a list of students name, subject and grade"
   ]
  },
  {
   "cell_type": "code",
   "execution_count": 42,
   "id": "b73b6b65-6859-4b76-8618-39cbd39699a0",
   "metadata": {},
   "outputs": [],
   "source": [
    "#create a student's dictionary\n",
    "student_info = {\n",
    "'Student': ['Alice', 'Bob', 'Alice', 'Bob'],\n",
    "'Subject': ['Maths', 'Math', 'Science', 'Science'],\n",
    "'Grade': [90, 88, 95, 92]\n",
    "} "
   ]
  },
  {
   "cell_type": "code",
   "execution_count": null,
   "id": "be2341c2-cb7f-4c3a-8e79-6bad0ceb9c53",
   "metadata": {},
   "outputs": [],
   "source": []
  },
  {
   "cell_type": "code",
   "execution_count": null,
   "id": "ae62ff53-0fe5-42f4-8a2b-1f0bf8355d40",
   "metadata": {},
   "outputs": [],
   "source": []
  },
  {
   "cell_type": "code",
   "execution_count": null,
   "id": "8a1534ea-dbd4-481e-8a64-bf9320a17531",
   "metadata": {},
   "outputs": [],
   "source": []
  },
  {
   "cell_type": "code",
   "execution_count": null,
   "id": "b013ec72-f7f0-4fe0-8c01-4fee09ad6b65",
   "metadata": {},
   "outputs": [],
   "source": []
  },
  {
   "cell_type": "code",
   "execution_count": null,
   "id": "5e034a47-04c2-4a84-8b22-26f2fcea5c11",
   "metadata": {},
   "outputs": [],
   "source": []
  },
  {
   "cell_type": "code",
   "execution_count": null,
   "id": "a846cd99-f528-47c2-94d7-c7e6dbf9b857",
   "metadata": {},
   "outputs": [],
   "source": []
  },
  {
   "cell_type": "code",
   "execution_count": null,
   "id": "c361dc3d-40db-45d0-8d91-1fcc731af929",
   "metadata": {},
   "outputs": [],
   "source": []
  },
  {
   "cell_type": "code",
   "execution_count": 8,
   "id": "bb232d38-2087-48e1-b420-f4900c5d7794",
   "metadata": {},
   "outputs": [
    {
     "data": {
      "text/plain": [
       "{'Student': ['Asher', 'Pete', 'JJ', 'Jake'],\n",
       " 'Subject': ['English', 'Math', 'Science', 'Art'],\n",
       " 'Grade': [90, 88, 95, 92]}"
      ]
     },
     "execution_count": 8,
     "metadata": {},
     "output_type": "execute_result"
    }
   ],
   "source": [
    "student_info"
   ]
  },
  {
   "cell_type": "markdown",
   "id": "7cd627ef-78ed-4426-b168-98aa40ed378b",
   "metadata": {},
   "source": [
    "CREATE A DATAFRAME : rows and columns\n",
    "To access DataFrame method, we go through pandas"
   ]
  },
  {
   "cell_type": "code",
   "execution_count": 10,
   "id": "bf59d820-a649-4eff-96e2-1bb7a29b30ef",
   "metadata": {},
   "outputs": [],
   "source": [
    "df = pd.DataFrame(student_info)"
   ]
  },
  {
   "cell_type": "code",
   "execution_count": 11,
   "id": "70ec8be5-3e10-4bb7-8ab8-aa55120ca2fd",
   "metadata": {},
   "outputs": [
    {
     "data": {
      "text/html": [
       "<div>\n",
       "<style scoped>\n",
       "    .dataframe tbody tr th:only-of-type {\n",
       "        vertical-align: middle;\n",
       "    }\n",
       "\n",
       "    .dataframe tbody tr th {\n",
       "        vertical-align: top;\n",
       "    }\n",
       "\n",
       "    .dataframe thead th {\n",
       "        text-align: right;\n",
       "    }\n",
       "</style>\n",
       "<table border=\"1\" class=\"dataframe\">\n",
       "  <thead>\n",
       "    <tr style=\"text-align: right;\">\n",
       "      <th></th>\n",
       "      <th>Student</th>\n",
       "      <th>Subject</th>\n",
       "      <th>Grade</th>\n",
       "    </tr>\n",
       "  </thead>\n",
       "  <tbody>\n",
       "    <tr>\n",
       "      <th>0</th>\n",
       "      <td>Asher</td>\n",
       "      <td>English</td>\n",
       "      <td>90</td>\n",
       "    </tr>\n",
       "    <tr>\n",
       "      <th>1</th>\n",
       "      <td>Pete</td>\n",
       "      <td>Math</td>\n",
       "      <td>88</td>\n",
       "    </tr>\n",
       "    <tr>\n",
       "      <th>2</th>\n",
       "      <td>JJ</td>\n",
       "      <td>Science</td>\n",
       "      <td>95</td>\n",
       "    </tr>\n",
       "    <tr>\n",
       "      <th>3</th>\n",
       "      <td>Jake</td>\n",
       "      <td>Art</td>\n",
       "      <td>92</td>\n",
       "    </tr>\n",
       "  </tbody>\n",
       "</table>\n",
       "</div>"
      ],
      "text/plain": [
       "  Student  Subject  Grade\n",
       "0   Asher  English     90\n",
       "1    Pete     Math     88\n",
       "2      JJ  Science     95\n",
       "3    Jake      Art     92"
      ]
     },
     "execution_count": 11,
     "metadata": {},
     "output_type": "execute_result"
    }
   ],
   "source": [
    "df"
   ]
  },
  {
   "cell_type": "markdown",
   "id": "77dce7ed-3566-46b4-8a89-7ccbed0a4a65",
   "metadata": {},
   "source": [
    "Generate a simple generative statistics: \n",
    "We use GroupBy to group the data by subject. This creates separate groups for 'Math' and 'Science'.\n",
    "We apply the mean() function to the 'Grade' column within each group. This calculates the average grade for each subject"
   ]
  },
  {
   "cell_type": "code",
   "execution_count": 15,
   "id": "b79a5c3a-b94c-483e-8f58-4d45324ec72c",
   "metadata": {},
   "outputs": [],
   "source": [
    "groupby_data = df.groupby('Subject')['Grade'].mean()"
   ]
  },
  {
   "cell_type": "code",
   "execution_count": 16,
   "id": "72b191fb-00ae-4ac2-b6a6-5f5110316690",
   "metadata": {},
   "outputs": [
    {
     "data": {
      "text/plain": [
       "Subject\n",
       "Art        92.0\n",
       "English    90.0\n",
       "Math       88.0\n",
       "Science    95.0\n",
       "Name: Grade, dtype: float64"
      ]
     },
     "execution_count": 16,
     "metadata": {},
     "output_type": "execute_result"
    }
   ],
   "source": [
    "groupby_data"
   ]
  },
  {
   "cell_type": "markdown",
   "id": "ef902b3e-c8fb-42d1-81e2-2f258a57fab6",
   "metadata": {},
   "source": [
    " We can use the plain mean to calculate the mean of the a column for Grades"
   ]
  },
  {
   "cell_type": "code",
   "execution_count": 17,
   "id": "d79f09bf-d870-4436-bc14-7fd17b6dbaa7",
   "metadata": {},
   "outputs": [],
   "source": [
    "grade_mean = df['Grade'].mean()"
   ]
  },
  {
   "cell_type": "code",
   "execution_count": 18,
   "id": "47364931-bb05-4d52-b445-bac3e65ec2c0",
   "metadata": {},
   "outputs": [
    {
     "data": {
      "text/plain": [
       "np.float64(91.25)"
      ]
     },
     "execution_count": 18,
     "metadata": {},
     "output_type": "execute_result"
    }
   ],
   "source": [
    "grade_mean"
   ]
  },
  {
   "cell_type": "markdown",
   "id": "e1323618-69aa-4ebd-a364-f8545732e751",
   "metadata": {},
   "source": [
    "IMPORTING A COMPLETE DATASET"
   ]
  },
  {
   "cell_type": "code",
   "execution_count": 3,
   "id": "8815caae-7c9b-4613-adb2-79f60434f2be",
   "metadata": {},
   "outputs": [],
   "source": [
    "# imports the students_peformance_data into the enviroment\n",
    "students_df = pd.read_csv('student_performance_data.csv')"
   ]
  },
  {
   "cell_type": "code",
   "execution_count": 27,
   "id": "10b45e98-8c4f-4ef8-bae5-46f542d46f16",
   "metadata": {},
   "outputs": [
    {
     "data": {
      "text/html": [
       "<div>\n",
       "<style scoped>\n",
       "    .dataframe tbody tr th:only-of-type {\n",
       "        vertical-align: middle;\n",
       "    }\n",
       "\n",
       "    .dataframe tbody tr th {\n",
       "        vertical-align: top;\n",
       "    }\n",
       "\n",
       "    .dataframe thead th {\n",
       "        text-align: right;\n",
       "    }\n",
       "</style>\n",
       "<table border=\"1\" class=\"dataframe\">\n",
       "  <thead>\n",
       "    <tr style=\"text-align: right;\">\n",
       "      <th></th>\n",
       "      <th>StudentID</th>\n",
       "      <th>Gender</th>\n",
       "      <th>Age</th>\n",
       "      <th>StudyHoursPerWeek</th>\n",
       "      <th>AttendanceRate</th>\n",
       "      <th>GPA</th>\n",
       "      <th>Major</th>\n",
       "      <th>PartTimeJob</th>\n",
       "      <th>ExtraCurricularActivities</th>\n",
       "    </tr>\n",
       "  </thead>\n",
       "  <tbody>\n",
       "    <tr>\n",
       "      <th>0</th>\n",
       "      <td>1</td>\n",
       "      <td>Male</td>\n",
       "      <td>24</td>\n",
       "      <td>37</td>\n",
       "      <td>90.75</td>\n",
       "      <td>3.47</td>\n",
       "      <td>Arts</td>\n",
       "      <td>Yes</td>\n",
       "      <td>No</td>\n",
       "    </tr>\n",
       "    <tr>\n",
       "      <th>1</th>\n",
       "      <td>2</td>\n",
       "      <td>Female</td>\n",
       "      <td>22</td>\n",
       "      <td>37</td>\n",
       "      <td>74.90</td>\n",
       "      <td>2.32</td>\n",
       "      <td>Education</td>\n",
       "      <td>No</td>\n",
       "      <td>No</td>\n",
       "    </tr>\n",
       "    <tr>\n",
       "      <th>2</th>\n",
       "      <td>3</td>\n",
       "      <td>Male</td>\n",
       "      <td>22</td>\n",
       "      <td>10</td>\n",
       "      <td>53.36</td>\n",
       "      <td>2.38</td>\n",
       "      <td>Business</td>\n",
       "      <td>No</td>\n",
       "      <td>No</td>\n",
       "    </tr>\n",
       "    <tr>\n",
       "      <th>3</th>\n",
       "      <td>4</td>\n",
       "      <td>Male</td>\n",
       "      <td>24</td>\n",
       "      <td>10</td>\n",
       "      <td>70.26</td>\n",
       "      <td>3.46</td>\n",
       "      <td>Science</td>\n",
       "      <td>Yes</td>\n",
       "      <td>No</td>\n",
       "    </tr>\n",
       "    <tr>\n",
       "      <th>4</th>\n",
       "      <td>5</td>\n",
       "      <td>Male</td>\n",
       "      <td>18</td>\n",
       "      <td>19</td>\n",
       "      <td>74.87</td>\n",
       "      <td>2.31</td>\n",
       "      <td>Education</td>\n",
       "      <td>Yes</td>\n",
       "      <td>No</td>\n",
       "    </tr>\n",
       "  </tbody>\n",
       "</table>\n",
       "</div>"
      ],
      "text/plain": [
       "   StudentID  Gender  Age  StudyHoursPerWeek  AttendanceRate   GPA      Major  \\\n",
       "0          1    Male   24                 37           90.75  3.47       Arts   \n",
       "1          2  Female   22                 37           74.90  2.32  Education   \n",
       "2          3    Male   22                 10           53.36  2.38   Business   \n",
       "3          4    Male   24                 10           70.26  3.46    Science   \n",
       "4          5    Male   18                 19           74.87  2.31  Education   \n",
       "\n",
       "  PartTimeJob ExtraCurricularActivities  \n",
       "0         Yes                        No  \n",
       "1          No                        No  \n",
       "2          No                        No  \n",
       "3         Yes                        No  \n",
       "4         Yes                        No  "
      ]
     },
     "execution_count": 27,
     "metadata": {},
     "output_type": "execute_result"
    }
   ],
   "source": [
    "students_df.head()"
   ]
  },
  {
   "cell_type": "code",
   "execution_count": 24,
   "id": "079ad382-c090-408f-bec7-affe7111d818",
   "metadata": {},
   "outputs": [
    {
     "data": {
      "text/html": [
       "<div>\n",
       "<style scoped>\n",
       "    .dataframe tbody tr th:only-of-type {\n",
       "        vertical-align: middle;\n",
       "    }\n",
       "\n",
       "    .dataframe tbody tr th {\n",
       "        vertical-align: top;\n",
       "    }\n",
       "\n",
       "    .dataframe thead th {\n",
       "        text-align: right;\n",
       "    }\n",
       "</style>\n",
       "<table border=\"1\" class=\"dataframe\">\n",
       "  <thead>\n",
       "    <tr style=\"text-align: right;\">\n",
       "      <th></th>\n",
       "      <th>StudentID</th>\n",
       "      <th>Gender</th>\n",
       "      <th>Age</th>\n",
       "      <th>StudyHoursPerWeek</th>\n",
       "      <th>AttendanceRate</th>\n",
       "      <th>GPA</th>\n",
       "      <th>Major</th>\n",
       "      <th>PartTimeJob</th>\n",
       "      <th>ExtraCurricularActivities</th>\n",
       "    </tr>\n",
       "  </thead>\n",
       "  <tbody>\n",
       "    <tr>\n",
       "      <th>495</th>\n",
       "      <td>496</td>\n",
       "      <td>Male</td>\n",
       "      <td>22</td>\n",
       "      <td>37</td>\n",
       "      <td>76.61</td>\n",
       "      <td>2.97</td>\n",
       "      <td>Science</td>\n",
       "      <td>No</td>\n",
       "      <td>No</td>\n",
       "    </tr>\n",
       "    <tr>\n",
       "      <th>496</th>\n",
       "      <td>497</td>\n",
       "      <td>Male</td>\n",
       "      <td>23</td>\n",
       "      <td>11</td>\n",
       "      <td>56.29</td>\n",
       "      <td>3.20</td>\n",
       "      <td>Science</td>\n",
       "      <td>No</td>\n",
       "      <td>No</td>\n",
       "    </tr>\n",
       "    <tr>\n",
       "      <th>497</th>\n",
       "      <td>498</td>\n",
       "      <td>Female</td>\n",
       "      <td>20</td>\n",
       "      <td>6</td>\n",
       "      <td>56.64</td>\n",
       "      <td>3.20</td>\n",
       "      <td>Science</td>\n",
       "      <td>No</td>\n",
       "      <td>Yes</td>\n",
       "    </tr>\n",
       "    <tr>\n",
       "      <th>498</th>\n",
       "      <td>499</td>\n",
       "      <td>Male</td>\n",
       "      <td>22</td>\n",
       "      <td>18</td>\n",
       "      <td>57.18</td>\n",
       "      <td>2.05</td>\n",
       "      <td>Business</td>\n",
       "      <td>No</td>\n",
       "      <td>Yes</td>\n",
       "    </tr>\n",
       "    <tr>\n",
       "      <th>499</th>\n",
       "      <td>500</td>\n",
       "      <td>Female</td>\n",
       "      <td>24</td>\n",
       "      <td>21</td>\n",
       "      <td>96.99</td>\n",
       "      <td>2.64</td>\n",
       "      <td>Engineering</td>\n",
       "      <td>No</td>\n",
       "      <td>No</td>\n",
       "    </tr>\n",
       "  </tbody>\n",
       "</table>\n",
       "</div>"
      ],
      "text/plain": [
       "     StudentID  Gender  Age  StudyHoursPerWeek  AttendanceRate   GPA  \\\n",
       "495        496    Male   22                 37           76.61  2.97   \n",
       "496        497    Male   23                 11           56.29  3.20   \n",
       "497        498  Female   20                  6           56.64  3.20   \n",
       "498        499    Male   22                 18           57.18  2.05   \n",
       "499        500  Female   24                 21           96.99  2.64   \n",
       "\n",
       "           Major PartTimeJob ExtraCurricularActivities  \n",
       "495      Science          No                        No  \n",
       "496      Science          No                        No  \n",
       "497      Science          No                       Yes  \n",
       "498     Business          No                       Yes  \n",
       "499  Engineering          No                        No  "
      ]
     },
     "execution_count": 24,
     "metadata": {},
     "output_type": "execute_result"
    }
   ],
   "source": [
    "students_df.tail()"
   ]
  },
  {
   "cell_type": "markdown",
   "id": "b5abc960-8328-4086-bb3e-b7dfd0b42e69",
   "metadata": {},
   "source": [
    "Calculate the mean age, StudyHoursPerWeek, GPA"
   ]
  },
  {
   "cell_type": "code",
   "execution_count": 35,
   "id": "ec8ef24c-ccf4-41bd-bbc0-525241b75d51",
   "metadata": {},
   "outputs": [
    {
     "data": {
      "text/plain": [
       "np.float64(20.956)"
      ]
     },
     "execution_count": 35,
     "metadata": {},
     "output_type": "execute_result"
    }
   ],
   "source": [
    "age_mean = students_df['Age'].mean()\n",
    "age_mean"
   ]
  },
  {
   "cell_type": "code",
   "execution_count": 33,
   "id": "a343c251-989f-4d53-9739-1577488b622c",
   "metadata": {},
   "outputs": [
    {
     "data": {
      "text/plain": [
       "np.float64(19.876)"
      ]
     },
     "execution_count": 33,
     "metadata": {},
     "output_type": "execute_result"
    }
   ],
   "source": [
    "StudyHoursPerWeek_mean = students_df['StudyHoursPerWeek'].mean()\n",
    "StudyHoursPerWeek_mean"
   ]
  },
  {
   "cell_type": "code",
   "execution_count": 36,
   "id": "b72bdbe3-a24b-4449-b26e-146455ab8bb7",
   "metadata": {},
   "outputs": [
    {
     "data": {
      "text/plain": [
       "np.float64(2.9851600000000005)"
      ]
     },
     "execution_count": 36,
     "metadata": {},
     "output_type": "execute_result"
    }
   ],
   "source": [
    "GPA_mean = students_df['GPA'].mean()\n",
    "GPA_mean"
   ]
  },
  {
   "cell_type": "markdown",
   "id": "4e7ecd92-b624-4cbf-8348-742a8441ab0a",
   "metadata": {},
   "source": []
  },
  {
   "cell_type": "markdown",
   "id": "8d8e3970-23a1-47e6-a83d-a53e94e63ef5",
   "metadata": {},
   "source": [
    "return stats.apply(lambda x: f\"{x:.2f}%\")"
   ]
  },
  {
   "cell_type": "code",
   "execution_count": 4,
   "id": "9a24a9ae-c261-48a1-933a-4822532c7cd6",
   "metadata": {},
   "outputs": [
    {
     "data": {
      "text/html": [
       "<div>\n",
       "<style scoped>\n",
       "    .dataframe tbody tr th:only-of-type {\n",
       "        vertical-align: middle;\n",
       "    }\n",
       "\n",
       "    .dataframe tbody tr th {\n",
       "        vertical-align: top;\n",
       "    }\n",
       "\n",
       "    .dataframe thead th {\n",
       "        text-align: right;\n",
       "    }\n",
       "</style>\n",
       "<table border=\"1\" class=\"dataframe\">\n",
       "  <thead>\n",
       "    <tr style=\"text-align: right;\">\n",
       "      <th></th>\n",
       "      <th>StudentID</th>\n",
       "      <th>Age</th>\n",
       "      <th>StudyHoursPerWeek</th>\n",
       "      <th>AttendanceRate</th>\n",
       "      <th>GPA</th>\n",
       "    </tr>\n",
       "  </thead>\n",
       "  <tbody>\n",
       "    <tr>\n",
       "      <th>count</th>\n",
       "      <td>500.000000</td>\n",
       "      <td>500.000000</td>\n",
       "      <td>500.000000</td>\n",
       "      <td>500.000000</td>\n",
       "      <td>500.00000</td>\n",
       "    </tr>\n",
       "    <tr>\n",
       "      <th>mean</th>\n",
       "      <td>250.500000</td>\n",
       "      <td>20.956000</td>\n",
       "      <td>19.876000</td>\n",
       "      <td>74.990380</td>\n",
       "      <td>2.98516</td>\n",
       "    </tr>\n",
       "    <tr>\n",
       "      <th>std</th>\n",
       "      <td>144.481833</td>\n",
       "      <td>2.000517</td>\n",
       "      <td>11.471347</td>\n",
       "      <td>14.565917</td>\n",
       "      <td>0.56362</td>\n",
       "    </tr>\n",
       "    <tr>\n",
       "      <th>min</th>\n",
       "      <td>1.000000</td>\n",
       "      <td>18.000000</td>\n",
       "      <td>1.000000</td>\n",
       "      <td>50.010000</td>\n",
       "      <td>2.00000</td>\n",
       "    </tr>\n",
       "    <tr>\n",
       "      <th>25%</th>\n",
       "      <td>125.750000</td>\n",
       "      <td>19.000000</td>\n",
       "      <td>10.000000</td>\n",
       "      <td>62.607500</td>\n",
       "      <td>2.48750</td>\n",
       "    </tr>\n",
       "    <tr>\n",
       "      <th>50%</th>\n",
       "      <td>250.500000</td>\n",
       "      <td>21.000000</td>\n",
       "      <td>20.500000</td>\n",
       "      <td>75.730000</td>\n",
       "      <td>3.00000</td>\n",
       "    </tr>\n",
       "    <tr>\n",
       "      <th>75%</th>\n",
       "      <td>375.250000</td>\n",
       "      <td>23.000000</td>\n",
       "      <td>30.000000</td>\n",
       "      <td>87.220000</td>\n",
       "      <td>3.48000</td>\n",
       "    </tr>\n",
       "    <tr>\n",
       "      <th>max</th>\n",
       "      <td>500.000000</td>\n",
       "      <td>24.000000</td>\n",
       "      <td>39.000000</td>\n",
       "      <td>99.970000</td>\n",
       "      <td>3.99000</td>\n",
       "    </tr>\n",
       "  </tbody>\n",
       "</table>\n",
       "</div>"
      ],
      "text/plain": [
       "        StudentID         Age  StudyHoursPerWeek  AttendanceRate        GPA\n",
       "count  500.000000  500.000000         500.000000      500.000000  500.00000\n",
       "mean   250.500000   20.956000          19.876000       74.990380    2.98516\n",
       "std    144.481833    2.000517          11.471347       14.565917    0.56362\n",
       "min      1.000000   18.000000           1.000000       50.010000    2.00000\n",
       "25%    125.750000   19.000000          10.000000       62.607500    2.48750\n",
       "50%    250.500000   21.000000          20.500000       75.730000    3.00000\n",
       "75%    375.250000   23.000000          30.000000       87.220000    3.48000\n",
       "max    500.000000   24.000000          39.000000       99.970000    3.99000"
      ]
     },
     "execution_count": 4,
     "metadata": {},
     "output_type": "execute_result"
    }
   ],
   "source": [
    "stats = students_df.describe()\n",
    "stats"
   ]
  },
  {
   "cell_type": "markdown",
   "id": "aaa4147b-026a-4ec5-9cce-852175e604e8",
   "metadata": {},
   "source": [
    "Group By function in pandas"
   ]
  },
  {
   "cell_type": "code",
   "execution_count": 38,
   "id": "c6081202-9257-402c-808d-0d13768169e8",
   "metadata": {},
   "outputs": [
    {
     "data": {
      "text/plain": [
       "\" GroupBy Function. There are many everyday tasks that are comparable to the workings of this function. \\n For example, after laundry, you sort your clothes into different piles based on color or type. \\n Once the sorting is over, further operations can be performed on the separated clothes, like packing them in different areas of the closet.\\nGroupBy is also used to group data by one or more columns. Once grouped, we can perform various operations on each group, \\n such as calculating summary statistics (like mean, median, or standard deviation), applying functions, or \\n filtering data. This makes it easier to analyze and understand patterns within the data. \\nLet's look at an example:\\n\""
      ]
     },
     "execution_count": 38,
     "metadata": {},
     "output_type": "execute_result"
    }
   ],
   "source": [
    "\"\"\" GroupBy Function. There are many everyday tasks that are comparable to the workings of this function. \n",
    " For example, after laundry, you sort your clothes into different piles based on color or type. \n",
    " Once the sorting is over, further operations can be performed on the separated clothes, like packing them in different areas of the closet.\n",
    "GroupBy is also used to group data by one or more columns. Once grouped, we can perform various operations on each group, \n",
    " such as calculating summary statistics (like mean, median, or standard deviation), applying functions, or \n",
    " filtering data. This makes it easier to analyze and understand patterns within the data. \n",
    "Let's look at an example:\n",
    "\"\"\""
   ]
  },
  {
   "cell_type": "markdown",
   "id": "4d061a88-5011-40d2-b05d-b7d0246fade3",
   "metadata": {},
   "source": [
    "Q1. For each gender, which major has the highest total study hours per week?"
   ]
  },
  {
   "cell_type": "code",
   "execution_count": 39,
   "id": "8eea030d-bfd3-4dea-a82b-eb8ac2dffa1b",
   "metadata": {},
   "outputs": [
    {
     "data": {
      "text/html": [
       "<div>\n",
       "<style scoped>\n",
       "    .dataframe tbody tr th:only-of-type {\n",
       "        vertical-align: middle;\n",
       "    }\n",
       "\n",
       "    .dataframe tbody tr th {\n",
       "        vertical-align: top;\n",
       "    }\n",
       "\n",
       "    .dataframe thead th {\n",
       "        text-align: right;\n",
       "    }\n",
       "</style>\n",
       "<table border=\"1\" class=\"dataframe\">\n",
       "  <thead>\n",
       "    <tr style=\"text-align: right;\">\n",
       "      <th></th>\n",
       "      <th>Gender</th>\n",
       "      <th>Major</th>\n",
       "      <th>StudyHoursPerWeek</th>\n",
       "    </tr>\n",
       "  </thead>\n",
       "  <tbody>\n",
       "    <tr>\n",
       "      <th>1</th>\n",
       "      <td>Female</td>\n",
       "      <td>Business</td>\n",
       "      <td>1229</td>\n",
       "    </tr>\n",
       "    <tr>\n",
       "      <th>7</th>\n",
       "      <td>Male</td>\n",
       "      <td>Education</td>\n",
       "      <td>1212</td>\n",
       "    </tr>\n",
       "  </tbody>\n",
       "</table>\n",
       "</div>"
      ],
      "text/plain": [
       "   Gender      Major  StudyHoursPerWeek\n",
       "1  Female   Business               1229\n",
       "7    Male  Education               1212"
      ]
     },
     "execution_count": 39,
     "metadata": {},
     "output_type": "execute_result"
    }
   ],
   "source": [
    "# Grouping by 'Gender' and 'Major', then summing the 'StudyHoursPerWeek' for each group\n",
    "grouped = students_df.groupby(['Gender', 'Major'])['StudyHoursPerWeek'].sum()\n",
    "\n",
    "# Resetting the index to make it easier to work with\n",
    "grouped = grouped.reset_index()\n",
    "\n",
    "# Finding the major with the highest study hours per gender\n",
    "max_study_hours_per_gender = grouped.loc[grouped.groupby('Gender')['StudyHoursPerWeek'].idxmax()]\n",
    "\n",
    "# Displaying the result\n",
    "max_study_hours_per_gender"
   ]
  },
  {
   "cell_type": "markdown",
   "id": "fe22019e-04e5-4bdd-9a29-3acdb82567b7",
   "metadata": {},
   "source": [
    " Q2. For each major, what is the percentage contribution of its total study hours to the overall total study hours?"
   ]
  }
 ],
 "metadata": {
  "kernelspec": {
   "display_name": "Python 3 (ipykernel)",
   "language": "python",
   "name": "python3"
  },
  "language_info": {
   "codemirror_mode": {
    "name": "ipython",
    "version": 3
   },
   "file_extension": ".py",
   "mimetype": "text/x-python",
   "name": "python",
   "nbconvert_exporter": "python",
   "pygments_lexer": "ipython3",
   "version": "3.12.6"
  }
 },
 "nbformat": 4,
 "nbformat_minor": 5
}
