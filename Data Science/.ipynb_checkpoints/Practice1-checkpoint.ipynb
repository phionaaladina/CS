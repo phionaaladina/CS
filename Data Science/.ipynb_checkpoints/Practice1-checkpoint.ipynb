{
 "cells": [
  {
   "cell_type": "code",
   "execution_count": 1,
   "id": "c9ad0976-42f5-41ff-9bce-1acbd2670b28",
   "metadata": {},
   "outputs": [
    {
     "name": "stdout",
     "output_type": "stream",
     "text": [
      "1\n"
     ]
    }
   ],
   "source": [
    "a = 1\n",
    "print(a)"
   ]
  },
  {
   "cell_type": "code",
   "execution_count": 2,
   "id": "fcc2ddde-25f1-4af7-a629-115b74b96689",
   "metadata": {},
   "outputs": [
    {
     "name": "stdout",
     "output_type": "stream",
     "text": [
      "[1, 2, 3, 4, 5]\n"
     ]
    }
   ],
   "source": [
    "#list\n",
    "num_list = [1,2,3,4,5]\n",
    "print(num_list)"
   ]
  },
  {
   "cell_type": "code",
   "execution_count": 3,
   "id": "72325d84-91bf-4f1f-8d8a-4a8c015dea1e",
   "metadata": {},
   "outputs": [
    {
     "name": "stdout",
     "output_type": "stream",
     "text": [
      "(1, 2, 3, 4, 5)\n"
     ]
    }
   ],
   "source": [
    "#turple\n",
    "num_tup = (1,2,3,4,5)\n",
    "print(num_tup)"
   ]
  },
  {
   "cell_type": "code",
   "execution_count": 8,
   "id": "8052ede0-d769-4beb-8a28-be95597e9861",
   "metadata": {},
   "outputs": [
    {
     "name": "stdout",
     "output_type": "stream",
     "text": [
      "{'Fiona': 'Aladina'}\n"
     ]
    }
   ],
   "source": [
    "#dictionary\n",
    "student = { \"Fiona\": \"Aladina\"   \n",
    "}\n",
    "\n",
    "print(student)"
   ]
  },
  {
   "cell_type": "code",
   "execution_count": 6,
   "id": "8a13d249-57fd-4503-8bed-d23aa5d2db66",
   "metadata": {},
   "outputs": [
    {
     "name": "stdout",
     "output_type": "stream",
     "text": [
      "['Chicken roll', 'Bang bang chicken', 'Cheese', 'Egg roll', 'Cucumber']\n"
     ]
    }
   ],
   "source": [
    "name_list = ['Chicken roll','Bang bang chicken', 'Cheese', 'Egg roll', 'Cucumber']\n",
    "print(name_list)"
   ]
  },
  {
   "cell_type": "code",
   "execution_count": 7,
   "id": "30013136-3593-4218-bbe0-178628ece66a",
   "metadata": {},
   "outputs": [],
   "source": [
    "KFC_prices = [9.99,7.99,7.49,7.00,6.29,4.99]"
   ]
  },
  {
   "cell_type": "code",
   "execution_count": 9,
   "id": "7ac895cf-a03f-40c0-b20d-6f842694925e",
   "metadata": {},
   "outputs": [],
   "source": [
    "CJ_prices = [7.5,5,4.4,5,3.75,2.25]"
   ]
  },
  {
   "cell_type": "code",
   "execution_count": 10,
   "id": "296f2124-5121-4ca9-a342-67ddc9eb11a5",
   "metadata": {},
   "outputs": [
    {
     "data": {
      "text/plain": [
       "[9.99, 7.99, 7.49, 7.0, 6.29, 4.99, 7.5, 5, 4.4, 5, 3.75, 2.25]"
      ]
     },
     "execution_count": 10,
     "metadata": {},
     "output_type": "execute_result"
    }
   ],
   "source": [
    "#list concatenation\n",
    "price_list = KFC_prices + CJ_prices\n",
    "price_list"
   ]
  },
  {
   "cell_type": "markdown",
   "id": "48e41a56-30e9-4532-bf2f-3dc5dfbda8f8",
   "metadata": {},
   "source": [
    "NUMPY ARRAY"
   ]
  },
  {
   "cell_type": "markdown",
   "id": "a30af4f6-e315-4ba2-9bbc-d1e5ebdf0316",
   "metadata": {},
   "source": [
    "- Numpy is a Python library that provides math functions.\n",
    "- It also provides a type of sequence called an array.\n",
    "- An array function can be created by either a list or a turple. "
   ]
  },
  {
   "cell_type": "code",
   "execution_count": 14,
   "id": "b0a71d4f-1c4f-4f3c-a2bf-65174064a120",
   "metadata": {},
   "outputs": [],
   "source": [
    "import numpy as np"
   ]
  },
  {
   "cell_type": "code",
   "execution_count": null,
   "id": "198a6aeb-5780-4e59-b8a7-813b2bf17235",
   "metadata": {},
   "outputs": [],
   "source": []
  }
 ],
 "metadata": {
  "kernelspec": {
   "display_name": "Python 3 (ipykernel)",
   "language": "python",
   "name": "python3"
  },
  "language_info": {
   "codemirror_mode": {
    "name": "ipython",
    "version": 3
   },
   "file_extension": ".py",
   "mimetype": "text/x-python",
   "name": "python",
   "nbconvert_exporter": "python",
   "pygments_lexer": "ipython3",
   "version": "3.12.6"
  }
 },
 "nbformat": 4,
 "nbformat_minor": 5
}
